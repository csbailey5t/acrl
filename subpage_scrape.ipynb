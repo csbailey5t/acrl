{
 "cells": [
  {
   "cell_type": "code",
   "execution_count": 51,
   "metadata": {},
   "outputs": [],
   "source": [
    "import pandas as pd\n",
    "from requests_html import HTMLSession\n",
    "from collections import namedtuple"
   ]
  },
  {
   "cell_type": "code",
   "execution_count": 29,
   "metadata": {},
   "outputs": [],
   "source": [
    "test_url = \"https://s4.goeshow.com/acrl/national/2019/profile.cfm?profile_name=session&master_key=0DFF903A-A477-DC5D-B3B4-C61346230B4A&page_key=126CB9A0-B53A-2A1E-9827-DF2938A26C80&xtemplate&userLGNKEY=0,Professional/Staff\""
   ]
  },
  {
   "cell_type": "code",
   "execution_count": 30,
   "metadata": {},
   "outputs": [],
   "source": [
    "session = HTMLSession()"
   ]
  },
  {
   "cell_type": "code",
   "execution_count": 31,
   "metadata": {},
   "outputs": [],
   "source": [
    "r = session.get(test_url)"
   ]
  },
  {
   "cell_type": "markdown",
   "metadata": {},
   "source": [
    "We already have title, speakers, link, tag. \n",
    "\n",
    "We want to get the description, format, learning outcomes, type of audience"
   ]
  },
  {
   "cell_type": "code",
   "execution_count": 32,
   "metadata": {},
   "outputs": [
    {
     "data": {
      "text/plain": "[<Element 'table' class=('form-table', 'border-table', 'tb-text') width='100%'>,\n <Element 'table' width='100%' class=('form-table', 'border-table', 'tb-text')>,\n <Element 'table' >,\n <Element 'table' width='100%' class=('form-table', 'border-table', 'tb-text') id='surveyQuestionTable'>,\n <Element 'table' class=('form-table', 'noBorder-table', 'tb-text') border='0' width='100%'>,\n <Element 'table' class=('form-table', 'border-table', 'tb-text') width='100%'>]"
     },
     "execution_count": 32,
     "metadata": {},
     "output_type": "execute_result"
    }
   ],
   "source": [
    "# find second table, 5th row\n",
    "tables = r.html.find(\"table\")\n",
    "tables"
   ]
  },
  {
   "cell_type": "code",
   "execution_count": 33,
   "metadata": {},
   "outputs": [
    {
     "data": {
      "text/plain": "'This interactive preconference will actively engage resident academic librarians by providing a format to focus on their career plans. As resident librarians, most individuals are in temporary appointments. By participating in this preconference, participants will hear from nationally recognized speakers on developing a leadership narrative. In addition, participants will work through a career planning tool to develop a road map. By participating in the preconference, resident librarians will be better prepared to pursue their next career move. Offered by the ACRL Diversity Alliance'"
     },
     "execution_count": 33,
     "metadata": {},
     "output_type": "execute_result"
    }
   ],
   "source": [
    "tables[1].find('tr:nth-child(5)', first=True).text"
   ]
  },
  {
   "cell_type": "code",
   "execution_count": null,
   "metadata": {},
   "outputs": [],
   "source": [
    "ConfSession = namedtuple(\"ConfSession\", [\"description\", \"format\", \"audience\"])"
   ]
  },
  {
   "cell_type": "code",
   "execution_count": 69,
   "metadata": {},
   "outputs": [],
   "source": [
    "# takes a url \n",
    "def parse_details_page(url):\n",
    "    # printing the url just for debugging purposes \n",
    "    print(url)\n",
    "\n",
    "    session = HTMLSession()\n",
    "    r = session.get(url)\n",
    "    try:\n",
    "        tables = r.html.find(\"table\")\n",
    "        description = tables[1].find(\"tr:nth-child(5)\", first=True).text\n",
    "    except (IndexError, AttributeError, KeyError):\n",
    "        description = \"NO_DESCRIPTION\"\n",
    "\n",
    "    try:\n",
    "        survey_table = r.html.find(\"#surveyQuestionTable\", first=True)\n",
    "    except:\n",
    "        print(\"There is no survey table\")\n",
    "        session_format = \"NO_FORMAT\"\n",
    "        # outcomes = \"NO OUTCOMES\"\n",
    "        audience = \"NO_AUDIENCE\"\n",
    "    \n",
    "    try:\n",
    "        session_format = survey_table.find(\"tr:nth-child(2)\", first=True).text\n",
    "    except:\n",
    "        session_format = \"NO_FORMAT\"\n",
    "\n",
    "    # Let's skip doing learning outcomes for now rather than the extra table\n",
    "    # try:\n",
    "    #     outcomes = survey_table.find(\"tr:nth-child(2)\", first=True)\n",
    "    # except:\n",
    "    #     outcomes = \"NO OUTCOMES\"\n",
    "    \n",
    "    try:\n",
    "        audience = survey_table.find(\"tr:nth-child(8)\", first=True).text\n",
    "    except:\n",
    "        audience = \"NO_AUDIENCE\"\n",
    "    \n",
    "    return ConfSession(description, session_format, audience)"
   ]
  },
  {
   "cell_type": "code",
   "execution_count": 67,
   "metadata": {},
   "outputs": [
    {
     "name": "stdout",
     "output_type": "stream",
     "text": [
      "https://s4.goeshow.com/acrl/national/2019/profile.cfm?profile_name=session&master_key=0DFF903A-A477-DC5D-B3B4-C61346230B4A&page_key=126CB9A0-B53A-2A1E-9827-DF2938A26C80&xtemplate&userLGNKEY=0,Professional/Staff\n"
     ]
    },
    {
     "data": {
      "text/plain": "ConfSession(description='This interactive preconference will actively engage resident academic librarians by providing a format to focus on their career plans. As resident librarians, most individuals are in temporary appointments. By participating in this preconference, participants will hear from nationally recognized speakers on developing a leadership narrative. In addition, participants will work through a career planning tool to develop a road map. By participating in the preconference, resident librarians will be better prepared to pursue their next career move. Offered by the ACRL Diversity Alliance', format='Preconference, additional fee required', audience='People with some experience in the topic, but looking to grow.')"
     },
     "execution_count": 67,
     "metadata": {},
     "output_type": "execute_result"
    }
   ],
   "source": [
    "parse_details_page(test_url)"
   ]
  },
  {
   "cell_type": "markdown",
   "metadata": {},
   "source": [
    "Plan:\n",
    "1. import existing csv of conf data\n",
    "2. get rid of all rows where there is no link\n",
    "3. iterate over column of urls\n",
    "4. parse each url with `parse_details_page` returning a `ConfSession`\n",
    "5. compose the `ConfSession`s into a `DataFrame`\n",
    "6. join the new data with the old on the vertical"
   ]
  },
  {
   "cell_type": "code",
   "execution_count": 55,
   "metadata": {},
   "outputs": [
    {
     "data": {
      "text/html": "<div>\n<style scoped>\n    .dataframe tbody tr th:only-of-type {\n        vertical-align: middle;\n    }\n\n    .dataframe tbody tr th {\n        vertical-align: top;\n    }\n\n    .dataframe thead th {\n        text-align: right;\n    }\n</style>\n<table border=\"1\" class=\"dataframe\">\n  <thead>\n    <tr style=\"text-align: right;\">\n      <th></th>\n      <th>Unnamed: 0</th>\n      <th>title</th>\n      <th>speakers</th>\n      <th>link</th>\n      <th>tag</th>\n    </tr>\n  </thead>\n  <tbody>\n    <tr>\n      <th>0</th>\n      <td>0</td>\n      <td>Taking Charge of Your Narrative (*additional f...</td>\n      <td>Alexia Hudson-Ward, Toni Olivas, Jon Cawthorne...</td>\n      <td>https://s4.goeshow.com/acrl/national/2019/prof...</td>\n      <td>Professional/Staff Development</td>\n    </tr>\n    <tr>\n      <th>1</th>\n      <td>1</td>\n      <td>Engaged Students are Empowered Students: Instr...</td>\n      <td>Claire Holmes, Meg Grotti, Megan Oakleaf, Meli...</td>\n      <td>https://s4.goeshow.com/acrl/national/2019/prof...</td>\n      <td>Teaching and Learning</td>\n    </tr>\n    <tr>\n      <th>2</th>\n      <td>2</td>\n      <td>Lead Your Library Towards Accessibility: Knowl...</td>\n      <td>Stephanie Rosen, Heidi Schroeder, Andy Andrews</td>\n      <td>https://s4.goeshow.com/acrl/national/2019/prof...</td>\n      <td>Professional/Staff Development</td>\n    </tr>\n    <tr>\n      <th>3</th>\n      <td>3</td>\n      <td>OER+ScholarlyCommunication (*additional fee re...</td>\n      <td>Maria Bonn, Will Cross, Josh Bolick</td>\n      <td>https://s4.goeshow.com/acrl/national/2019/prof...</td>\n      <td>Scholarly Communication</td>\n    </tr>\n    <tr>\n      <th>4</th>\n      <td>4</td>\n      <td>Planning, Assessing, and Communicating Library...</td>\n      <td>Lisa Stillwell, Sharon Mader</td>\n      <td>https://s4.goeshow.com/acrl/national/2019/prof...</td>\n      <td>Assessment</td>\n    </tr>\n  </tbody>\n</table>\n</div>",
      "text/plain": "   Unnamed: 0                                              title  \\\n0           0  Taking Charge of Your Narrative (*additional f...   \n1           1  Engaged Students are Empowered Students: Instr...   \n2           2  Lead Your Library Towards Accessibility: Knowl...   \n3           3  OER+ScholarlyCommunication (*additional fee re...   \n4           4  Planning, Assessing, and Communicating Library...   \n\n                                            speakers  \\\n0  Alexia Hudson-Ward, Toni Olivas, Jon Cawthorne...   \n1  Claire Holmes, Meg Grotti, Megan Oakleaf, Meli...   \n2     Stephanie Rosen, Heidi Schroeder, Andy Andrews   \n3                Maria Bonn, Will Cross, Josh Bolick   \n4                       Lisa Stillwell, Sharon Mader   \n\n                                                link  \\\n0  https://s4.goeshow.com/acrl/national/2019/prof...   \n1  https://s4.goeshow.com/acrl/national/2019/prof...   \n2  https://s4.goeshow.com/acrl/national/2019/prof...   \n3  https://s4.goeshow.com/acrl/national/2019/prof...   \n4  https://s4.goeshow.com/acrl/national/2019/prof...   \n\n                              tag  \n0  Professional/Staff Development  \n1           Teaching and Learning  \n2  Professional/Staff Development  \n3         Scholarly Communication  \n4                      Assessment  "
     },
     "execution_count": 55,
     "metadata": {},
     "output_type": "execute_result"
    }
   ],
   "source": [
    "basic_data = pd.read_csv(\"acrl_2019.csv\")\n",
    "basic_data.head()"
   ]
  },
  {
   "cell_type": "code",
   "execution_count": 71,
   "metadata": {},
   "outputs": [
    {
     "data": {
      "text/html": "<div>\n<style scoped>\n    .dataframe tbody tr th:only-of-type {\n        vertical-align: middle;\n    }\n\n    .dataframe tbody tr th {\n        vertical-align: top;\n    }\n\n    .dataframe thead th {\n        text-align: right;\n    }\n</style>\n<table border=\"1\" class=\"dataframe\">\n  <thead>\n    <tr style=\"text-align: right;\">\n      <th></th>\n      <th>Unnamed: 0</th>\n      <th>title</th>\n      <th>speakers</th>\n      <th>link</th>\n      <th>tag</th>\n    </tr>\n  </thead>\n  <tbody>\n    <tr>\n      <th>0</th>\n      <td>0</td>\n      <td>Taking Charge of Your Narrative (*additional f...</td>\n      <td>Alexia Hudson-Ward, Toni Olivas, Jon Cawthorne...</td>\n      <td>https://s4.goeshow.com/acrl/national/2019/prof...</td>\n      <td>Professional/Staff Development</td>\n    </tr>\n    <tr>\n      <th>1</th>\n      <td>1</td>\n      <td>Engaged Students are Empowered Students: Instr...</td>\n      <td>Claire Holmes, Meg Grotti, Megan Oakleaf, Meli...</td>\n      <td>https://s4.goeshow.com/acrl/national/2019/prof...</td>\n      <td>Teaching and Learning</td>\n    </tr>\n    <tr>\n      <th>2</th>\n      <td>2</td>\n      <td>Lead Your Library Towards Accessibility: Knowl...</td>\n      <td>Stephanie Rosen, Heidi Schroeder, Andy Andrews</td>\n      <td>https://s4.goeshow.com/acrl/national/2019/prof...</td>\n      <td>Professional/Staff Development</td>\n    </tr>\n    <tr>\n      <th>3</th>\n      <td>3</td>\n      <td>OER+ScholarlyCommunication (*additional fee re...</td>\n      <td>Maria Bonn, Will Cross, Josh Bolick</td>\n      <td>https://s4.goeshow.com/acrl/national/2019/prof...</td>\n      <td>Scholarly Communication</td>\n    </tr>\n    <tr>\n      <th>4</th>\n      <td>4</td>\n      <td>Planning, Assessing, and Communicating Library...</td>\n      <td>Lisa Stillwell, Sharon Mader</td>\n      <td>https://s4.goeshow.com/acrl/national/2019/prof...</td>\n      <td>Assessment</td>\n    </tr>\n    <tr>\n      <th>...</th>\n      <td>...</td>\n      <td>...</td>\n      <td>...</td>\n      <td>...</td>\n      <td>...</td>\n    </tr>\n    <tr>\n      <th>614</th>\n      <td>614</td>\n      <td>Safe for Work: Online Professionalism Instruct...</td>\n      <td>Christina L. Wissinger, Carmen Cole</td>\n      <td>https://s4.goeshow.com/acrl/national/2019/prof...</td>\n      <td>Teaching and Learning</td>\n    </tr>\n    <tr>\n      <th>615</th>\n      <td>615</td>\n      <td>Guided Meditation</td>\n      <td>NO_SPEAKERS</td>\n      <td>https://s4.goeshow.com/acrl/national/2019/prof...</td>\n      <td>NO_TAG</td>\n    </tr>\n    <tr>\n      <th>616</th>\n      <td>616</td>\n      <td>Raspberry Pi a Platform for Innovation -- Solv...</td>\n      <td>Colin Nickels</td>\n      <td>https://s4.goeshow.com/acrl/national/2019/prof...</td>\n      <td>Technology and Tools</td>\n    </tr>\n    <tr>\n      <th>617</th>\n      <td>617</td>\n      <td>Closing Keynote: Alison Bechdel</td>\n      <td>NO_SPEAKERS</td>\n      <td>https://s4.goeshow.com/acrl/national/2019/prof...</td>\n      <td>NO_TAG</td>\n    </tr>\n    <tr>\n      <th>618</th>\n      <td>618</td>\n      <td>Alison Bechdel Book Signing</td>\n      <td>NO_SPEAKERS</td>\n      <td>https://s4.goeshow.com/acrl/national/2019/prof...</td>\n      <td>NO_TAG</td>\n    </tr>\n  </tbody>\n</table>\n<p>287 rows × 5 columns</p>\n</div>",
      "text/plain": "     Unnamed: 0                                              title  \\\n0             0  Taking Charge of Your Narrative (*additional f...   \n1             1  Engaged Students are Empowered Students: Instr...   \n2             2  Lead Your Library Towards Accessibility: Knowl...   \n3             3  OER+ScholarlyCommunication (*additional fee re...   \n4             4  Planning, Assessing, and Communicating Library...   \n..          ...                                                ...   \n614         614  Safe for Work: Online Professionalism Instruct...   \n615         615                                  Guided Meditation   \n616         616  Raspberry Pi a Platform for Innovation -- Solv...   \n617         617                    Closing Keynote: Alison Bechdel   \n618         618                        Alison Bechdel Book Signing   \n\n                                              speakers  \\\n0    Alexia Hudson-Ward, Toni Olivas, Jon Cawthorne...   \n1    Claire Holmes, Meg Grotti, Megan Oakleaf, Meli...   \n2       Stephanie Rosen, Heidi Schroeder, Andy Andrews   \n3                  Maria Bonn, Will Cross, Josh Bolick   \n4                         Lisa Stillwell, Sharon Mader   \n..                                                 ...   \n614                Christina L. Wissinger, Carmen Cole   \n615                                        NO_SPEAKERS   \n616                                      Colin Nickels   \n617                                        NO_SPEAKERS   \n618                                        NO_SPEAKERS   \n\n                                                  link  \\\n0    https://s4.goeshow.com/acrl/national/2019/prof...   \n1    https://s4.goeshow.com/acrl/national/2019/prof...   \n2    https://s4.goeshow.com/acrl/national/2019/prof...   \n3    https://s4.goeshow.com/acrl/national/2019/prof...   \n4    https://s4.goeshow.com/acrl/national/2019/prof...   \n..                                                 ...   \n614  https://s4.goeshow.com/acrl/national/2019/prof...   \n615  https://s4.goeshow.com/acrl/national/2019/prof...   \n616  https://s4.goeshow.com/acrl/national/2019/prof...   \n617  https://s4.goeshow.com/acrl/national/2019/prof...   \n618  https://s4.goeshow.com/acrl/national/2019/prof...   \n\n                                tag  \n0    Professional/Staff Development  \n1             Teaching and Learning  \n2    Professional/Staff Development  \n3           Scholarly Communication  \n4                        Assessment  \n..                              ...  \n614           Teaching and Learning  \n615                          NO_TAG  \n616            Technology and Tools  \n617                          NO_TAG  \n618                          NO_TAG  \n\n[287 rows x 5 columns]"
     },
     "execution_count": 71,
     "metadata": {},
     "output_type": "execute_result"
    }
   ],
   "source": [
    "basic_data_links = basic_data[basic_data.link != \"NO_LINK\"]\n",
    "basic_data_links"
   ]
  },
  {
   "cell_type": "code",
   "execution_count": null,
   "metadata": {},
   "outputs": [],
   "source": [
    "conf_sessions = [parse_details_page(url) for url in basic_data_links.link]\n",
    "conf_sessions"
   ]
  },
  {
   "cell_type": "code",
   "execution_count": 104,
   "metadata": {},
   "outputs": [],
   "source": [
    "df = pd.DataFrame.from_records(conf_sessions, columns=ConfSession._fields)"
   ]
  },
  {
   "cell_type": "code",
   "execution_count": 92,
   "metadata": {},
   "outputs": [
    {
     "data": {
      "text/html": "<div>\n<style scoped>\n    .dataframe tbody tr th:only-of-type {\n        vertical-align: middle;\n    }\n\n    .dataframe tbody tr th {\n        vertical-align: top;\n    }\n\n    .dataframe thead th {\n        text-align: right;\n    }\n</style>\n<table border=\"1\" class=\"dataframe\">\n  <thead>\n    <tr style=\"text-align: right;\">\n      <th></th>\n      <th>description</th>\n      <th>format</th>\n      <th>audience</th>\n      <th>link</th>\n    </tr>\n  </thead>\n  <tbody>\n    <tr>\n      <th>0</th>\n      <td>This interactive preconference will actively e...</td>\n      <td>Preconference, additional fee required</td>\n      <td>People with some experience in the topic, but ...</td>\n      <td>https://s4.goeshow.com/acrl/national/2019/prof...</td>\n    </tr>\n    <tr>\n      <th>1</th>\n      <td>Are your learners engaged? Are they empowered?...</td>\n      <td>Preconference, additional fee required</td>\n      <td>People brand new to the topic.\\nPeople with so...</td>\n      <td>https://s4.goeshow.com/acrl/national/2019/prof...</td>\n    </tr>\n    <tr>\n      <th>2</th>\n      <td>Get the tools you need to take your work and y...</td>\n      <td>Preconference, additional fee required</td>\n      <td>People with some experience in the topic, but ...</td>\n      <td>https://s4.goeshow.com/acrl/national/2019/prof...</td>\n    </tr>\n    <tr>\n      <th>3</th>\n      <td>Academic libraries increasingly seek professio...</td>\n      <td>Preconference, additional fee required</td>\n      <td>People brand new to the topic.\\nPeople with ex...</td>\n      <td>https://s4.goeshow.com/acrl/national/2019/prof...</td>\n    </tr>\n    <tr>\n      <th>4</th>\n      <td>Libraries in higher education are increasingly...</td>\n      <td>Preconference, additional fee required</td>\n      <td>People brand new to the topic.\\nPeople with so...</td>\n      <td>https://s4.goeshow.com/acrl/national/2019/prof...</td>\n    </tr>\n  </tbody>\n</table>\n</div>",
      "text/plain": "                                         description  \\\n0  This interactive preconference will actively e...   \n1  Are your learners engaged? Are they empowered?...   \n2  Get the tools you need to take your work and y...   \n3  Academic libraries increasingly seek professio...   \n4  Libraries in higher education are increasingly...   \n\n                                   format  \\\n0  Preconference, additional fee required   \n1  Preconference, additional fee required   \n2  Preconference, additional fee required   \n3  Preconference, additional fee required   \n4  Preconference, additional fee required   \n\n                                            audience  \\\n0  People with some experience in the topic, but ...   \n1  People brand new to the topic.\\nPeople with so...   \n2  People with some experience in the topic, but ...   \n3  People brand new to the topic.\\nPeople with ex...   \n4  People brand new to the topic.\\nPeople with so...   \n\n                                                link  \n0  https://s4.goeshow.com/acrl/national/2019/prof...  \n1  https://s4.goeshow.com/acrl/national/2019/prof...  \n2  https://s4.goeshow.com/acrl/national/2019/prof...  \n3  https://s4.goeshow.com/acrl/national/2019/prof...  \n4  https://s4.goeshow.com/acrl/national/2019/prof...  "
     },
     "execution_count": 92,
     "metadata": {},
     "output_type": "execute_result"
    }
   ],
   "source": [
    "# for purpose of join, add link column\n",
    "df[\"link\"] = basic_data_links.link\n",
    "df.head()"
   ]
  },
  {
   "cell_type": "code",
   "execution_count": 93,
   "metadata": {},
   "outputs": [],
   "source": [
    "df.to_csv(\"2019_details.csv\")"
   ]
  },
  {
   "cell_type": "code",
   "execution_count": 101,
   "metadata": {},
   "outputs": [
    {
     "data": {
      "text/html": "<div>\n<style scoped>\n    .dataframe tbody tr th:only-of-type {\n        vertical-align: middle;\n    }\n\n    .dataframe tbody tr th {\n        vertical-align: top;\n    }\n\n    .dataframe thead th {\n        text-align: right;\n    }\n</style>\n<table border=\"1\" class=\"dataframe\">\n  <thead>\n    <tr style=\"text-align: right;\">\n      <th></th>\n      <th>title</th>\n      <th>speakers</th>\n      <th>link</th>\n      <th>tag</th>\n    </tr>\n  </thead>\n  <tbody>\n    <tr>\n      <th>0</th>\n      <td>Taking Charge of Your Narrative (*additional f...</td>\n      <td>Alexia Hudson-Ward, Toni Olivas, Jon Cawthorne...</td>\n      <td>https://s4.goeshow.com/acrl/national/2019/prof...</td>\n      <td>Professional/Staff Development</td>\n    </tr>\n    <tr>\n      <th>1</th>\n      <td>Engaged Students are Empowered Students: Instr...</td>\n      <td>Claire Holmes, Meg Grotti, Megan Oakleaf, Meli...</td>\n      <td>https://s4.goeshow.com/acrl/national/2019/prof...</td>\n      <td>Teaching and Learning</td>\n    </tr>\n    <tr>\n      <th>2</th>\n      <td>Lead Your Library Towards Accessibility: Knowl...</td>\n      <td>Stephanie Rosen, Heidi Schroeder, Andy Andrews</td>\n      <td>https://s4.goeshow.com/acrl/national/2019/prof...</td>\n      <td>Professional/Staff Development</td>\n    </tr>\n    <tr>\n      <th>3</th>\n      <td>OER+ScholarlyCommunication (*additional fee re...</td>\n      <td>Maria Bonn, Will Cross, Josh Bolick</td>\n      <td>https://s4.goeshow.com/acrl/national/2019/prof...</td>\n      <td>Scholarly Communication</td>\n    </tr>\n    <tr>\n      <th>4</th>\n      <td>Planning, Assessing, and Communicating Library...</td>\n      <td>Lisa Stillwell, Sharon Mader</td>\n      <td>https://s4.goeshow.com/acrl/national/2019/prof...</td>\n      <td>Assessment</td>\n    </tr>\n  </tbody>\n</table>\n</div>",
      "text/plain": "                                               title  \\\n0  Taking Charge of Your Narrative (*additional f...   \n1  Engaged Students are Empowered Students: Instr...   \n2  Lead Your Library Towards Accessibility: Knowl...   \n3  OER+ScholarlyCommunication (*additional fee re...   \n4  Planning, Assessing, and Communicating Library...   \n\n                                            speakers  \\\n0  Alexia Hudson-Ward, Toni Olivas, Jon Cawthorne...   \n1  Claire Holmes, Meg Grotti, Megan Oakleaf, Meli...   \n2     Stephanie Rosen, Heidi Schroeder, Andy Andrews   \n3                Maria Bonn, Will Cross, Josh Bolick   \n4                       Lisa Stillwell, Sharon Mader   \n\n                                                link  \\\n0  https://s4.goeshow.com/acrl/national/2019/prof...   \n1  https://s4.goeshow.com/acrl/national/2019/prof...   \n2  https://s4.goeshow.com/acrl/national/2019/prof...   \n3  https://s4.goeshow.com/acrl/national/2019/prof...   \n4  https://s4.goeshow.com/acrl/national/2019/prof...   \n\n                              tag  \n0  Professional/Staff Development  \n1           Teaching and Learning  \n2  Professional/Staff Development  \n3         Scholarly Communication  \n4                      Assessment  "
     },
     "execution_count": 101,
     "metadata": {},
     "output_type": "execute_result"
    }
   ],
   "source": [
    "# this reset and clean makes the join easier\n",
    "df2 = basic_data_links.reset_index().drop(columns=[\"index\", \"Unnamed: 0\"])\n",
    "df2.head()"
   ]
  },
  {
   "cell_type": "code",
   "execution_count": 105,
   "metadata": {},
   "outputs": [
    {
     "data": {
      "text/html": "<div>\n<style scoped>\n    .dataframe tbody tr th:only-of-type {\n        vertical-align: middle;\n    }\n\n    .dataframe tbody tr th {\n        vertical-align: top;\n    }\n\n    .dataframe thead th {\n        text-align: right;\n    }\n</style>\n<table border=\"1\" class=\"dataframe\">\n  <thead>\n    <tr style=\"text-align: right;\">\n      <th></th>\n      <th>title</th>\n      <th>speakers</th>\n      <th>link</th>\n      <th>tag</th>\n      <th>description</th>\n      <th>format</th>\n      <th>audience</th>\n    </tr>\n  </thead>\n  <tbody>\n    <tr>\n      <th>0</th>\n      <td>Taking Charge of Your Narrative (*additional f...</td>\n      <td>Alexia Hudson-Ward, Toni Olivas, Jon Cawthorne...</td>\n      <td>https://s4.goeshow.com/acrl/national/2019/prof...</td>\n      <td>Professional/Staff Development</td>\n      <td>This interactive preconference will actively e...</td>\n      <td>Preconference, additional fee required</td>\n      <td>People with some experience in the topic, but ...</td>\n    </tr>\n    <tr>\n      <th>1</th>\n      <td>Engaged Students are Empowered Students: Instr...</td>\n      <td>Claire Holmes, Meg Grotti, Megan Oakleaf, Meli...</td>\n      <td>https://s4.goeshow.com/acrl/national/2019/prof...</td>\n      <td>Teaching and Learning</td>\n      <td>Are your learners engaged? Are they empowered?...</td>\n      <td>Preconference, additional fee required</td>\n      <td>People brand new to the topic.\\nPeople with so...</td>\n    </tr>\n    <tr>\n      <th>2</th>\n      <td>Lead Your Library Towards Accessibility: Knowl...</td>\n      <td>Stephanie Rosen, Heidi Schroeder, Andy Andrews</td>\n      <td>https://s4.goeshow.com/acrl/national/2019/prof...</td>\n      <td>Professional/Staff Development</td>\n      <td>Get the tools you need to take your work and y...</td>\n      <td>Preconference, additional fee required</td>\n      <td>People with some experience in the topic, but ...</td>\n    </tr>\n    <tr>\n      <th>3</th>\n      <td>OER+ScholarlyCommunication (*additional fee re...</td>\n      <td>Maria Bonn, Will Cross, Josh Bolick</td>\n      <td>https://s4.goeshow.com/acrl/national/2019/prof...</td>\n      <td>Scholarly Communication</td>\n      <td>Academic libraries increasingly seek professio...</td>\n      <td>Preconference, additional fee required</td>\n      <td>People brand new to the topic.\\nPeople with ex...</td>\n    </tr>\n    <tr>\n      <th>4</th>\n      <td>Planning, Assessing, and Communicating Library...</td>\n      <td>Lisa Stillwell, Sharon Mader</td>\n      <td>https://s4.goeshow.com/acrl/national/2019/prof...</td>\n      <td>Assessment</td>\n      <td>Libraries in higher education are increasingly...</td>\n      <td>Preconference, additional fee required</td>\n      <td>People brand new to the topic.\\nPeople with so...</td>\n    </tr>\n  </tbody>\n</table>\n</div>",
      "text/plain": "                                               title  \\\n0  Taking Charge of Your Narrative (*additional f...   \n1  Engaged Students are Empowered Students: Instr...   \n2  Lead Your Library Towards Accessibility: Knowl...   \n3  OER+ScholarlyCommunication (*additional fee re...   \n4  Planning, Assessing, and Communicating Library...   \n\n                                            speakers  \\\n0  Alexia Hudson-Ward, Toni Olivas, Jon Cawthorne...   \n1  Claire Holmes, Meg Grotti, Megan Oakleaf, Meli...   \n2     Stephanie Rosen, Heidi Schroeder, Andy Andrews   \n3                Maria Bonn, Will Cross, Josh Bolick   \n4                       Lisa Stillwell, Sharon Mader   \n\n                                                link  \\\n0  https://s4.goeshow.com/acrl/national/2019/prof...   \n1  https://s4.goeshow.com/acrl/national/2019/prof...   \n2  https://s4.goeshow.com/acrl/national/2019/prof...   \n3  https://s4.goeshow.com/acrl/national/2019/prof...   \n4  https://s4.goeshow.com/acrl/national/2019/prof...   \n\n                              tag  \\\n0  Professional/Staff Development   \n1           Teaching and Learning   \n2  Professional/Staff Development   \n3         Scholarly Communication   \n4                      Assessment   \n\n                                         description  \\\n0  This interactive preconference will actively e...   \n1  Are your learners engaged? Are they empowered?...   \n2  Get the tools you need to take your work and y...   \n3  Academic libraries increasingly seek professio...   \n4  Libraries in higher education are increasingly...   \n\n                                   format  \\\n0  Preconference, additional fee required   \n1  Preconference, additional fee required   \n2  Preconference, additional fee required   \n3  Preconference, additional fee required   \n4  Preconference, additional fee required   \n\n                                            audience  \n0  People with some experience in the topic, but ...  \n1  People brand new to the topic.\\nPeople with so...  \n2  People with some experience in the topic, but ...  \n3  People brand new to the topic.\\nPeople with ex...  \n4  People brand new to the topic.\\nPeople with so...  "
     },
     "execution_count": 105,
     "metadata": {},
     "output_type": "execute_result"
    }
   ],
   "source": [
    "full_data = df2.join(df)\n",
    "full_data.head()"
   ]
  },
  {
   "cell_type": "code",
   "execution_count": 107,
   "metadata": {},
   "outputs": [
    {
     "data": {
      "text/html": "<div>\n<style scoped>\n    .dataframe tbody tr th:only-of-type {\n        vertical-align: middle;\n    }\n\n    .dataframe tbody tr th {\n        vertical-align: top;\n    }\n\n    .dataframe thead th {\n        text-align: right;\n    }\n</style>\n<table border=\"1\" class=\"dataframe\">\n  <thead>\n    <tr style=\"text-align: right;\">\n      <th></th>\n      <th>title</th>\n      <th>speakers</th>\n      <th>link</th>\n      <th>tag</th>\n      <th>description</th>\n      <th>format</th>\n      <th>audience</th>\n    </tr>\n  </thead>\n  <tbody>\n    <tr>\n      <th>282</th>\n      <td>Safe for Work: Online Professionalism Instruct...</td>\n      <td>Christina L. Wissinger, Carmen Cole</td>\n      <td>https://s4.goeshow.com/acrl/national/2019/prof...</td>\n      <td>Teaching and Learning</td>\n      <td>Proactively managing your online information a...</td>\n      <td>Contributed Paper</td>\n      <td>People brand new to the topic.\\nPeople with so...</td>\n    </tr>\n    <tr>\n      <th>283</th>\n      <td>Guided Meditation</td>\n      <td>NO_SPEAKERS</td>\n      <td>https://s4.goeshow.com/acrl/national/2019/prof...</td>\n      <td>NO_TAG</td>\n      <td>Mindfulness is the continuous practice of bein...</td>\n      <td>Social</td>\n      <td>NO_AUDIENCE</td>\n    </tr>\n    <tr>\n      <th>284</th>\n      <td>Raspberry Pi a Platform for Innovation -- Solv...</td>\n      <td>Colin Nickels</td>\n      <td>https://s4.goeshow.com/acrl/national/2019/prof...</td>\n      <td>Technology and Tools</td>\n      <td>The Raspberry Pi is small $35 wifi-compatible ...</td>\n      <td>TechConnect Presentation</td>\n      <td>People brand new to the topic.\\nPeople with so...</td>\n    </tr>\n    <tr>\n      <th>285</th>\n      <td>Closing Keynote: Alison Bechdel</td>\n      <td>NO_SPEAKERS</td>\n      <td>https://s4.goeshow.com/acrl/national/2019/prof...</td>\n      <td>NO_TAG</td>\n      <td>Alison Bechdel is an internationally beloved c...</td>\n      <td>Keynote</td>\n      <td>NO_AUDIENCE</td>\n    </tr>\n    <tr>\n      <th>286</th>\n      <td>Alison Bechdel Book Signing</td>\n      <td>NO_SPEAKERS</td>\n      <td>https://s4.goeshow.com/acrl/national/2019/prof...</td>\n      <td>NO_TAG</td>\n      <td>Meet Alison Bechdel and purchase her books; Fu...</td>\n      <td>Keynote</td>\n      <td>NO_AUDIENCE</td>\n    </tr>\n  </tbody>\n</table>\n</div>",
      "text/plain": "                                                 title  \\\n282  Safe for Work: Online Professionalism Instruct...   \n283                                  Guided Meditation   \n284  Raspberry Pi a Platform for Innovation -- Solv...   \n285                    Closing Keynote: Alison Bechdel   \n286                        Alison Bechdel Book Signing   \n\n                                speakers  \\\n282  Christina L. Wissinger, Carmen Cole   \n283                          NO_SPEAKERS   \n284                        Colin Nickels   \n285                          NO_SPEAKERS   \n286                          NO_SPEAKERS   \n\n                                                  link                    tag  \\\n282  https://s4.goeshow.com/acrl/national/2019/prof...  Teaching and Learning   \n283  https://s4.goeshow.com/acrl/national/2019/prof...                 NO_TAG   \n284  https://s4.goeshow.com/acrl/national/2019/prof...   Technology and Tools   \n285  https://s4.goeshow.com/acrl/national/2019/prof...                 NO_TAG   \n286  https://s4.goeshow.com/acrl/national/2019/prof...                 NO_TAG   \n\n                                           description  \\\n282  Proactively managing your online information a...   \n283  Mindfulness is the continuous practice of bein...   \n284  The Raspberry Pi is small $35 wifi-compatible ...   \n285  Alison Bechdel is an internationally beloved c...   \n286  Meet Alison Bechdel and purchase her books; Fu...   \n\n                       format  \\\n282         Contributed Paper   \n283                    Social   \n284  TechConnect Presentation   \n285                   Keynote   \n286                   Keynote   \n\n                                              audience  \n282  People brand new to the topic.\\nPeople with so...  \n283                                        NO_AUDIENCE  \n284  People brand new to the topic.\\nPeople with so...  \n285                                        NO_AUDIENCE  \n286                                        NO_AUDIENCE  "
     },
     "execution_count": 107,
     "metadata": {},
     "output_type": "execute_result"
    }
   ],
   "source": [
    "full_data.tail()"
   ]
  },
  {
   "cell_type": "code",
   "execution_count": 108,
   "metadata": {},
   "outputs": [],
   "source": [
    "full_data.to_csv(\"2019_full_session_data.csv\")"
   ]
  },
  {
   "cell_type": "code",
   "execution_count": null,
   "metadata": {},
   "outputs": [],
   "source": []
  }
 ],
 "metadata": {
  "kernelspec": {
   "display_name": "Python 3.9.0 64-bit",
   "metadata": {
    "interpreter": {
     "hash": "72e1397c4bf7ab9cba5dd03f05ae7ce13f588403a2b9ad0b0bb40cdbaace8918"
    }
   },
   "name": "python3"
  },
  "language_info": {
   "codemirror_mode": {
    "name": "ipython",
    "version": 3
   },
   "file_extension": ".py",
   "mimetype": "text/x-python",
   "name": "python",
   "nbconvert_exporter": "python",
   "pygments_lexer": "ipython3",
   "version": "3.9.0"
  },
  "orig_nbformat": 2
 },
 "nbformat": 4,
 "nbformat_minor": 2
}