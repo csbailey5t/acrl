{
 "metadata": {
  "language_info": {
   "codemirror_mode": {
    "name": "ipython",
    "version": 3
   },
   "file_extension": ".py",
   "mimetype": "text/x-python",
   "name": "python",
   "nbconvert_exporter": "python",
   "pygments_lexer": "ipython3",
   "version": "3.9.0-final"
  },
  "orig_nbformat": 2,
  "kernelspec": {
   "name": "python3",
   "display_name": "Python 3.9.0 64-bit",
   "metadata": {
    "interpreter": {
     "hash": "72e1397c4bf7ab9cba5dd03f05ae7ce13f588403a2b9ad0b0bb40cdbaace8918"
    }
   }
  }
 },
 "nbformat": 4,
 "nbformat_minor": 2,
 "cells": [
  {
   "cell_type": "code",
   "execution_count": 43,
   "metadata": {},
   "outputs": [],
   "source": [
    "import pandas as pd\n",
    "from requests_html import HTMLSession\n",
    "from collections import namedtuple"
   ]
  },
  {
   "cell_type": "code",
   "execution_count": 19,
   "metadata": {},
   "outputs": [],
   "source": [
    "session = HTMLSession()"
   ]
  },
  {
   "cell_type": "code",
   "execution_count": 20,
   "metadata": {},
   "outputs": [],
   "source": [
    "url = \"https://s4.goeshow.com/acrl/national/2019/conference_schedule.cfm\""
   ]
  },
  {
   "cell_type": "code",
   "execution_count": 21,
   "metadata": {},
   "outputs": [],
   "source": [
    "r = session.get(url)"
   ]
  },
  {
   "cell_type": "code",
   "execution_count": 25,
   "metadata": {},
   "outputs": [],
   "source": [
    "sessions = r.html.find(\"#sess_table\")"
   ]
  },
  {
   "cell_type": "code",
   "execution_count": 61,
   "metadata": {},
   "outputs": [],
   "source": [
    "ConfSession = namedtuple(\"ConfSession\", [\"title\", \"speakers\", \"link\", \"tag\"])"
   ]
  },
  {
   "cell_type": "code",
   "execution_count": 92,
   "metadata": {},
   "outputs": [],
   "source": [
    "def parse_session(sessionHTML):\n",
    "    try:\n",
    "        title = sessionHTML.find(\".schedule-session\", first=True).text\n",
    "    except (IndexError, AttributeError):\n",
    "        title = \"NO_TITLE\"\n",
    "\n",
    "    try:\n",
    "        link_raw = sessionHTML.find(\".schedule-session\", first=True).attrs[\"href\"]\n",
    "        link = link_raw.strip()\n",
    "    except (IndexError, AttributeError, KeyError):\n",
    "        link = \"NO_LINK\"\n",
    "\n",
    "    try:\n",
    "        speakers = sessionHTML.find(\".sessionPrimarySpeaker\", first=True).text.split(\":\")[1].strip()\n",
    "    except (IndexError, AttributeError):\n",
    "        speakers = \"NO_SPEAKERS\"\n",
    "\n",
    "    try:\n",
    "        tag_line = sessionHTML.find(\"tr\")[3].text\n",
    "        tag = tag_line.split(\":\")[1].strip()\n",
    "    except (IndexError, AttributeError):\n",
    "        tag = \"NO_TAG\"\n",
    "\n",
    "    \n",
    "    return ConfSession(title, speakers, link, tag)"
   ]
  },
  {
   "cell_type": "code",
   "execution_count": 93,
   "metadata": {
    "tags": [
     "outputPrepend"
    ]
   },
   "outputs": [
    {
     "output_type": "stream",
     "name": "stdout",
     "text": [
      ", Karen Diller', link=\"javascript:ExhibitorPopup('profile.cfm?profile_name=session&master_key=01B88E97-FC04-3890-4BDE-59E525841E75&page_key=126CB9A0-B53A-2A1E-9827-DF2938A26C80&xtemplate&userLGNKEY=0','session_profile');\", tag='Assessment')\n",
      "ConfSession(title='Leveraging Visual Literacy to Engage and Orient First-Year College Students in the Library', speakers='Melissa Clark', link=\"javascript:ExhibitorPopup('profile.cfm?profile_name=session&master_key=01BD7AF0-B01B-1484-CD21-97ACA6CC0C3B&page_key=126CB9A0-B53A-2A1E-9827-DF2938A26C80&xtemplate&userLGNKEY=0','session_profile');\", tag='Teaching and Learning')\n",
      "ConfSession(title='When Roles Collide: Librarians as Educators and the Question of Learning Analytics', speakers='Megan Oakleaf, Malcolm Brown, Dean Hendrix, Scott Walter, Joe Lucia', link=\"javascript:ExhibitorPopup('profile.cfm?profile_name=session&master_key=01C73AE9-FCBF-3153-67A1-2BA3FB850D6F&page_key=126CB9A0-B53A-2A1E-9827-DF2938A26C80&xtemplate&userLGNKEY=0','session_profile');\", tag='Teaching and Learning')\n",
      "ConfSession(title='Project Outcome for Academic Libraries: Data for Impact and Improvement', speakers='Emily Plagman, Eric Ackermann, Sara Goek', link=\"javascript:ExhibitorPopup('profile.cfm?profile_name=session&master_key=11883933-BB83-A0FF-356D-098F3C5E89EC&page_key=126CB9A0-B53A-2A1E-9827-DF2938A26C80&xtemplate&userLGNKEY=0','session_profile');\", tag='Technology and Tools')\n",
      "ConfSession(title='Advocating for Open: Putting Ethics into Practice', speakers='Brianna Marshall, Vicky Steeves, Micah Vandegrift', link=\"javascript:ExhibitorPopup('profile.cfm?profile_name=session&master_key=01B5EEE9-0DE3-9499-67C6-4ADD904A38C5&page_key=126CB9A0-B53A-2A1E-9827-DF2938A26C80&xtemplate&userLGNKEY=0','session_profile');\", tag='Scholarly Communication')\n",
      "ConfSession(title='Enhancing Career Readiness through a Library-Community Partnership: Living the Land Grant Mission', speakers='Quanetta Batts, Nena Couch, Cornell Lewis, Jennifer Vinopal, Deidra Herring', link=\"javascript:ExhibitorPopup('profile.cfm?profile_name=session&master_key=01B9C8A3-FFB9-4088-BC4C-CE0ABC72DF2B&page_key=126CB9A0-B53A-2A1E-9827-DF2938A26C80&xtemplate&userLGNKEY=0','session_profile');\", tag='Outreach')\n",
      "ConfSession(title='From Value to Values: Information Literacy, Capitalism, and Resistance', speakers='Eamon Tewell, Nora Almeida, Romel Espinel, Lisa Hinchliffe', link=\"javascript:ExhibitorPopup('profile.cfm?profile_name=session&master_key=01BB0593-DBCC-2B38-4F46-52E507E2B2DC&page_key=126CB9A0-B53A-2A1E-9827-DF2938A26C80&xtemplate&userLGNKEY=0','session_profile');\", tag='Teaching and Learning')\n",
      "ConfSession(title='Moving Beyond Race 101: Speculative Futuring for Equity', speakers='Jennifer Brown, Sofia Leung, Marisa Mendez-Brady, Jennifer Ferretti', link=\"javascript:ExhibitorPopup('profile.cfm?profile_name=session&master_key=01BE7716-B0F4-37E8-CCA7-B589E0C00B3C&page_key=126CB9A0-B53A-2A1E-9827-DF2938A26C80&xtemplate&userLGNKEY=0','session_profile');\", tag='Professional/Staff Development')\n",
      "ConfSession(title='The Stories We Tell and Sell: Instruction, Assessment, and Other Epic Tales', speakers='Virginia Moran, Talia Nadir', link=\"javascript:ExhibitorPopup('profile.cfm?profile_name=session&master_key=01C54402-F8D4-9C37-9891-A89F6C678C3B&page_key=126CB9A0-B53A-2A1E-9827-DF2938A26C80&xtemplate&userLGNKEY=0','session_profile');\", tag='Assessment')\n",
      "ConfSession(title='Transfer Student Success: Dismantling Deficit-Oriented Approaches', speakers='Brittany Paloma Fiedler, Chelsea Heinbach, Kevin Seeber, Allison Carr, Megan Welsh', link=\"javascript:ExhibitorPopup('profile.cfm?profile_name=session&master_key=01C571ED-D1FF-D26A-5DF8-2CAC8BB8ED73&page_key=126CB9A0-B53A-2A1E-9827-DF2938A26C80&xtemplate&userLGNKEY=0','session_profile');\", tag='Outreach')\n",
      "ConfSession(title='User-centered design in context', speakers='Kayla Brodman, Tom Haney, Ruth Szpunar', link=\"javascript:ExhibitorPopup('profile.cfm?profile_name=session&master_key=01C600A1-DC50-A437-D19D-FE95721FFA52&page_key=126CB9A0-B53A-2A1E-9827-DF2938A26C80&xtemplate&userLGNKEY=0','session_profile');\", tag='Technology and Tools')\n",
      "ConfSession(title='Using Change Management to Build Inclusion and Equity in Your Organization', speakers='Nikhat Ghouse, Alanna Aiko Moore, Jaena Alabi, Mark A. Puente', link=\"javascript:ExhibitorPopup('profile.cfm?profile_name=session&master_key=01C61609-9AC8-3D4C-DF11-DD0D252261AB&page_key=126CB9A0-B53A-2A1E-9827-DF2938A26C80&xtemplate&userLGNKEY=0','session_profile');\", tag='Administration/Management/Leadership')\n",
      "ConfSession(title='Unlikely Movie Screening', speakers='NO_SPEAKERS', link=\"javascript:ExhibitorPopup('profile.cfm?profile_name=session&master_key=E3F13AC2-0446-488A-26B9-6BC19235322E&page_key=126CB9A0-B53A-2A1E-9827-DF2938A26C80&xtemplate&userLGNKEY=0','session_profile');\", tag='NO_TAG')\n",
      "ConfSession(title='All-Conference Reception', speakers='NO_SPEAKERS', link=\"javascript:ExhibitorPopup('profile.cfm?profile_name=session&master_key=219AB1B5-DA08-D72C-8CA8-0933EA73B64F&page_key=126CB9A0-B53A-2A1E-9827-DF2938A26C80&xtemplate&userLGNKEY=0','session_profile');\", tag='NO_TAG')\n",
      "ConfSession(title='Guided Meditation', speakers='NO_SPEAKERS', link=\"javascript:ExhibitorPopup('profile.cfm?profile_name=session&master_key=11841F45-951C-BBAB-32AC-3F4A03738E9B&page_key=126CB9A0-B53A-2A1E-9827-DF2938A26C80&xtemplate&userLGNKEY=0','session_profile');\", tag='NO_TAG')\n",
      "ConfSession(title='Creating an Outreach Story: Assessment Results, Strategic Planning, and Reflection', speakers='Amy Wainwright, Rosan Mitola', link=\"javascript:ExhibitorPopup('profile.cfm?profile_name=session&master_key=01B80C25-9AD5-48A7-E7DC-29CD41635692&page_key=126CB9A0-B53A-2A1E-9827-DF2938A26C80&xtemplate&userLGNKEY=0','session_profile');\", tag='Outreach')\n",
      "ConfSession(title='When Enough Isn’t Enough: Rethinking Research Support in the Sciences', speakers='Danielle Cooper, Rebecca Springer', link=\"javascript:ExhibitorPopup('profile.cfm?profile_name=session&master_key=01C70700-0715-B660-EBC5-C6841C74D4AC&page_key=126CB9A0-B53A-2A1E-9827-DF2938A26C80&xtemplate&userLGNKEY=0','session_profile');\", tag='Administration/Management/Leadership')\n",
      "ConfSession(title='Becoming a Proud “Bad Librarian”: Dismantling Vocational Awe in Librarianship', speakers='Fobazi Ettarh', link=\"javascript:ExhibitorPopup('profile.cfm?profile_name=session&master_key=E7D82252-0789-4CB8-60C3-10B77ACF134B&page_key=126CB9A0-B53A-2A1E-9827-DF2938A26C80&xtemplate&userLGNKEY=0','session_profile');\", tag='Professional/Staff Development')\n",
      "ConfSession(title='Free Speech on Campus: Current Issues', speakers='Courtney Young, Martin Garnar, Deborah Caldwell-Stone, Raymond Ku', link=\"javascript:ExhibitorPopup('profile.cfm?profile_name=session&master_key=4B40B373-F3CE-DD17-6D00-A3BAD9A9EA63&page_key=126CB9A0-B53A-2A1E-9827-DF2938A26C80&xtemplate&userLGNKEY=0','session_profile');\", tag='Professional/Staff Development')\n",
      "ConfSession(title='Alternative Narratives for Space Planning', speakers='Karen Diller, Amy Beth, Sam Wallin', link=\"javascript:ExhibitorPopup('profile.cfm?profile_name=session&master_key=01B606A1-E73A-F38A-A082-7C2A974801B4&page_key=126CB9A0-B53A-2A1E-9827-DF2938A26C80&xtemplate&userLGNKEY=0','session_profile');\", tag='Assessment')\n",
      "ConfSession(title='Developing a Framework for Reflective Teaching Practices for Librarians', speakers='Sara Maurice Whitver, Karleigh Riesen', link=\"javascript:ExhibitorPopup('profile.cfm?profile_name=session&master_key=01B8CE58-FED7-3108-58F4-DAB108FD37CD&page_key=126CB9A0-B53A-2A1E-9827-DF2938A26C80&xtemplate&userLGNKEY=0','session_profile');\", tag='Teaching and Learning')\n",
      "ConfSession(title='Indigenous Inquiry: Seeking to Understand and Better Support Indigenous Studies Scholars on U.S. Occupied Institutional Land', speakers='Carrie Cornelius, Keahiahi Long, Michael Peper, Gina Petersen, Anthony Sanchez, Kapena Shim', link=\"javascript:ExhibitorPopup('profile.cfm?profile_name=session&master_key=01BC4367-00B9-166A-96A6-CE8163482D37&page_key=126CB9A0-B53A-2A1E-9827-DF2938A26C80&xtemplate&userLGNKEY=0','session_profile');\", tag='Outreach')\n",
      "ConfSession(title='Leading a Common Read Program: New Roles for Academic Librarians', speakers='Michele Van Hoeck, David Drexler, Susanna Eng-Ziskin', link=\"javascript:ExhibitorPopup('profile.cfm?profile_name=session&master_key=01BCD258-DFC7-79C8-C50B-5940D20C2383&page_key=126CB9A0-B53A-2A1E-9827-DF2938A26C80&xtemplate&userLGNKEY=0','session_profile');\", tag='Outreach')\n",
      "ConfSession(title='Libraries Lead the Charge: Best Practices for Engaging Student Veterans', speakers='Thomas Atwood, Inga Haugen, Sarah LeMire, Chloe Mills, Gerald Natal, Carroll Wilkinson', link=\"javascript:ExhibitorPopup('profile.cfm?profile_name=session&master_key=01BDA1E4-D1C6-D961-F566-8594886ED68A&page_key=126CB9A0-B53A-2A1E-9827-DF2938A26C80&xtemplate&userLGNKEY=0','session_profile');\", tag='Outreach')\n",
      "ConfSession(title='Recasting Library Leadership Training to Support Diversity', speakers='Samantha Hines, Jody Gray, Mary Jo Romaniuk, Alex Hodges, Jody Gray', link=\"javascript:ExhibitorPopup('profile.cfm?profile_name=session&master_key=01BF9977-CB3E-83C7-C907-16B1964FC90B&page_key=126CB9A0-B53A-2A1E-9827-DF2938A26C80&xtemplate&userLGNKEY=0','session_profile');\", tag='Administration/Management/Leadership')\n",
      "ConfSession(title='Redefining the Academic Library Space: Conducting Outreach Through a Pop-Up Model', speakers='Stephanie Beene, Sara DeWaay, Carolina Hernandez, Amy Jackson, Sarah Kostelecky, Todd Quinn', link=\"javascript:ExhibitorPopup('profile.cfm?profile_name=session&master_key=01C078ED-C3E3-B060-3D3B-B3C6DC8FAF71&page_key=126CB9A0-B53A-2A1E-9827-DF2938A26C80&xtemplate&userLGNKEY=0','session_profile');\", tag='Outreach')\n",
      "ConfSession(title='Supporting Neurodiversity in the Academic Library: Research, Best Practices, and Personal Experiences', speakers='Amelia Anderson, Nancy Everhart, Juliann Woods, Mike Meth, Paul Wyss', link=\"javascript:ExhibitorPopup('profile.cfm?profile_name=session&master_key=01C3860B-CA2A-322B-3F98-EFEA00791BCF&page_key=126CB9A0-B53A-2A1E-9827-DF2938A26C80&xtemplate&userLGNKEY=0','session_profile');\", tag='Professional/Staff Development')\n",
      "ConfSession(title='Making Music, Uncovering Copyright', speakers='Jason Evans Groth, Will Cross, Lillian Rigling', link=\"javascript:ExhibitorPopup('profile.cfm?profile_name=session&master_key=01BE029A-F54F-0D70-3AD5-45BFE93276C9&page_key=126CB9A0-B53A-2A1E-9827-DF2938A26C80&xtemplate&userLGNKEY=0','session_profile');\", tag='Teaching and Learning')\n",
      "ConfSession(title='Managing the Stress of Microaggressions with Mindfulness', speakers='Jaena Alabi, Pam Whaley, Chippewa Thomas', link=\"javascript:ExhibitorPopup('profile.cfm?profile_name=session&master_key=01BE47EC-0563-D355-9FDF-7CE3238C524C&page_key=126CB9A0-B53A-2A1E-9827-DF2938A26C80&xtemplate&userLGNKEY=0','session_profile');\", tag='Professional/Staff Development')\n",
      "ConfSession(title='Analyzing an Interactive Chatbot and its Impact on Academic Reference Services', speakers='Danielle Kane', link=\"javascript:ExhibitorPopup('profile.cfm?profile_name=session&master_key=01B61D64-AB8A-B64E-0DE3-B51202FE54A3&page_key=126CB9A0-B53A-2A1E-9827-DF2938A26C80&xtemplate&userLGNKEY=0','session_profile');\", tag='Reference')\n",
      "ConfSession(title='Debating Student Privacy in Library Research Projects', speakers='Jennifer Mayer, Rachel Dineen', link=\"javascript:ExhibitorPopup('profile.cfm?profile_name=session&master_key=01B8781C-F2DC-95B7-54B0-26C1987EE61C&page_key=126CB9A0-B53A-2A1E-9827-DF2938A26C80&xtemplate&userLGNKEY=0','session_profile');\", tag='Assessment')\n",
      "ConfSession(title='Using Peer Budget Allocations as Benchmarks for Local Expenditures', speakers='Brian Keith, Joseph Salem', link=\"javascript:ExhibitorPopup('profile.cfm?profile_name=session&master_key=01C648E2-A88C-417D-7165-C818B12D7A7D&page_key=126CB9A0-B53A-2A1E-9827-DF2938A26C80&xtemplate&userLGNKEY=0','session_profile');\", tag='Administration/Management/Leadership')\n",
      "ConfSession(title='Making micro-credentials smarter:\\xa0 Using AI to Improve the Learning Experience for Librarians and Students', speakers='Emily Rimland', link=\"javascript:ExhibitorPopup('profile.cfm?profile_name=session&master_key=6BBAC66E-F80F-C30C-9DAB-351220ABEDF6&page_key=126CB9A0-B53A-2A1E-9827-DF2938A26C80&xtemplate&userLGNKEY=0','session_profile');\", tag='Technology and Tools')\n",
      "ConfSession(title='Reframing Reference Services for Marginalized Students: A Participatory Visual Study', speakers='Eamon Tewell', link=\"javascript:ExhibitorPopup('profile.cfm?profile_name=session&master_key=01C0A8A8-0CBD-A698-9943-18BDD2362070&page_key=126CB9A0-B53A-2A1E-9827-DF2938A26C80&xtemplate&userLGNKEY=0','session_profile');\", tag='Reference')\n",
      "ConfSession(title='Wish You Were Here: Embedded Librarianship in an Education Abroad Context', speakers='Melanie Griffin, Patricia Sasser', link=\"javascript:ExhibitorPopup('profile.cfm?profile_name=session&master_key=01C7A291-D050-C939-EFE5-D58F779AEB0E&page_key=126CB9A0-B53A-2A1E-9827-DF2938A26C80&xtemplate&userLGNKEY=0','session_profile');\", tag='Teaching and Learning')\n",
      "ConfSession(title='“Why would you do that in the library?”: Reshaping Academic Library Spaces to Meet Students’ Spiritual Needs', speakers='Christina Riehman-Murphy, MSLS, Emily Mross', link=\"javascript:ExhibitorPopup('profile.cfm?profile_name=session&master_key=01B5639A-AC13-A273-E60C-831F8EC4E8BF&page_key=126CB9A0-B53A-2A1E-9827-DF2938A26C80&xtemplate&userLGNKEY=0','session_profile');\", tag='Outreach')\n",
      "ConfSession(title='ACRL Research Agenda for Scholarly Communications and the Research Environment', speakers='Yasmeen Shorish, Nathan Hall, Rebecca R. Kennison', link=\"javascript:ExhibitorPopup('profile.cfm?profile_name=session&master_key=E03F7C3C-BCC6-40FD-626F-54DCBDDEAB61&page_key=126CB9A0-B53A-2A1E-9827-DF2938A26C80&xtemplate&userLGNKEY=0','session_profile');\", tag='Scholarly Communication')\n",
      "ConfSession(title='ACRLMetrics User Group Meeting and Discussion', speakers='Ian Reid', link=\"javascript:ExhibitorPopup('profile.cfm?profile_name=session&master_key=CF483F96-956C-C725-8567-72D5EEE5070E&page_key=126CB9A0-B53A-2A1E-9827-DF2938A26C80&xtemplate&userLGNKEY=0','session_profile');\", tag='Assessment')\n",
      "ConfSession(title='Beyond Town Versus Gown to Local Partner for Student Success: Recasting the Academic Library for Community Support', speakers='Steven Bell, Alison Armstrong, aaron mason', link=\"javascript:ExhibitorPopup('profile.cfm?profile_name=session&master_key=01B68E84-B9DD-8BA4-6E5B-3918FFAF54C5&page_key=126CB9A0-B53A-2A1E-9827-DF2938A26C80&xtemplate&userLGNKEY=0','session_profile');\", tag='Outreach')\n",
      "ConfSession(title='Breaking free of curricular confines: seeking new opportunities to teach critical media literacy in the era of “fake news”', speakers='Alex Pfundt, Abigail Morris', link=\"javascript:ExhibitorPopup('profile.cfm?profile_name=session&master_key=01B6E0AF-DF69-B5E4-AB24-8755B74C123E&page_key=126CB9A0-B53A-2A1E-9827-DF2938A26C80&xtemplate&userLGNKEY=0','session_profile');\", tag='Teaching and Learning')\n",
      "ConfSession(title='From Backstage to Center Stage: Community College Libraries and OER', speakers='Brenda Hazard, Gregg Kiehl, Katie Ghidiu, Carrie Fishner', link=\"javascript:ExhibitorPopup('profile.cfm?profile_name=session&master_key=01BABCAD-F668-CA7E-4345-422D1E34FF49&page_key=126CB9A0-B53A-2A1E-9827-DF2938A26C80&xtemplate&userLGNKEY=0','session_profile');\", tag='Administration/Management/Leadership')\n",
      "ConfSession(title='Holistic Digital Collections: Working with Community Partners to Share Stories and Build Understanding.', speakers='Paul Gallagher, Erik Nordberg, Cole Hudson, Curtis Lipscomb', link=\"javascript:ExhibitorPopup('profile.cfm?profile_name=session&master_key=01BB4E0A-ABBC-C300-6BC0-58A7F7E1FE11&page_key=126CB9A0-B53A-2A1E-9827-DF2938A26C80&xtemplate&userLGNKEY=0','session_profile');\", tag='Special Collections/Archives')\n",
      "ConfSession(title='Learn it, Do it, Teach it: Increasing Sustainable Digital Scholarship Support through Collaborative In-House Professional Development', speakers='Kimberly Davies Hoffman, Emily Sherwood, Eileen Daly-Boas, Kristen Totleben', link=\"javascript:ExhibitorPopup('profile.cfm?profile_name=session&master_key=01BD25F4-BBF8-ED1D-D57D-E79B41A6D347&page_key=126CB9A0-B53A-2A1E-9827-DF2938A26C80&xtemplate&userLGNKEY=0','session_profile');\", tag='Professional/Staff Development')\n",
      "ConfSession(title='Recast Your Scholarly Narrative: a new model for the evaluation of academic librarian scholarship', speakers='Rachel Borchardt, Erika Linke, Jennifer Matthews', link=\"javascript:ExhibitorPopup('profile.cfm?profile_name=session&master_key=01BF62C9-0C7E-5925-630E-C4DB4276A256&page_key=126CB9A0-B53A-2A1E-9827-DF2938A26C80&xtemplate&userLGNKEY=0','session_profile');\", tag='Assessment')\n",
      "ConfSession(title='STEM librarians needed: rethinking recruitment by looking at impactful leaders today', speakers='Eglantine Ronfard, Helen Look, Bethany McGowan, Steven Adams', link=\"javascript:ExhibitorPopup('profile.cfm?profile_name=session&master_key=01C32865-EED3-AED5-6C61-B07133FDF915&page_key=126CB9A0-B53A-2A1E-9827-DF2938A26C80&xtemplate&userLGNKEY=0','session_profile');\", tag='Outreach')\n",
      "ConfSession(title='Women as Leaders: Explorations in Authenticity, Breaking from Toxicity, and Feminist Ideals', speakers='Valeria Molteni, Teresa Slobuski, Cynthia Dudenhoffer, Eileen K. Bosch', link=\"javascript:ExhibitorPopup('profile.cfm?profile_name=session&master_key=01C7C78C-F131-473E-B0D2-F8B945698028&page_key=126CB9A0-B53A-2A1E-9827-DF2938A26C80&xtemplate&userLGNKEY=0','session_profile');\", tag='Administration/Management/Leadership')\n",
      "ConfSession(title='Copyright and Digital Collections: A Data Driven Roadmap for Rights Statement Success', speakers='Hannah Stitzlein, Sara Benson', link=\"javascript:ExhibitorPopup('profile.cfm?profile_name=session&master_key=01B7D8B8-C74C-B6D6-91CD-E357A4DEF250&page_key=126CB9A0-B53A-2A1E-9827-DF2938A26C80&xtemplate&userLGNKEY=0','session_profile');\", tag='Special Collections/Archives')\n",
      "ConfSession(title='Recoding the Academic Librarian: Our Developing Role as Data Detectives', speakers='Jenny McBurney, Alicia Kubas', link=\"javascript:ExhibitorPopup('profile.cfm?profile_name=session&master_key=01C049B2-F400-D5A8-2624-CEBE6DFA849E&page_key=126CB9A0-B53A-2A1E-9827-DF2938A26C80&xtemplate&userLGNKEY=0','session_profile');\", tag='Reference')\n",
      "ConfSession(title='Safe for Work: Online Professionalism Instruction in the Disciplinary Context', speakers='Christina L. Wissinger, Carmen Cole', link=\"javascript:ExhibitorPopup('profile.cfm?profile_name=session&master_key=01C1C091-085C-80AB-97CE-FE82EBB86035&page_key=126CB9A0-B53A-2A1E-9827-DF2938A26C80&xtemplate&userLGNKEY=0','session_profile');\", tag='Teaching and Learning')\n",
      "ConfSession(title='Guided Meditation', speakers='NO_SPEAKERS', link=\"javascript:ExhibitorPopup('profile.cfm?profile_name=session&master_key=1188D99C-C0D6-0E06-68DE-5A0CB66056EC&page_key=126CB9A0-B53A-2A1E-9827-DF2938A26C80&xtemplate&userLGNKEY=0','session_profile');\", tag='NO_TAG')\n",
      "ConfSession(title='Raspberry Pi a Platform for Innovation -- Solving Library Problems with a Low-Cost Credit Card-Sized Computer', speakers='Colin Nickels', link=\"javascript:ExhibitorPopup('profile.cfm?profile_name=session&master_key=6BBB1E15-0ED3-864B-C688-357EE9708F73&page_key=126CB9A0-B53A-2A1E-9827-DF2938A26C80&xtemplate&userLGNKEY=0','session_profile');\", tag='Technology and Tools')\n",
      "ConfSession(title='Closing Keynote: Alison Bechdel', speakers='NO_SPEAKERS', link=\"javascript:ExhibitorPopup('profile.cfm?profile_name=session&master_key=20759236-9605-7EE0-0CC3-3BFE69C898B2&page_key=126CB9A0-B53A-2A1E-9827-DF2938A26C80&xtemplate&userLGNKEY=0','session_profile');\", tag='NO_TAG')\n",
      "ConfSession(title='Alison Bechdel Book Signing', speakers='NO_SPEAKERS', link=\"javascript:ExhibitorPopup('profile.cfm?profile_name=session&master_key=212BB3B1-09A7-B650-1037-A858E1B660D1&page_key=126CB9A0-B53A-2A1E-9827-DF2938A26C80&xtemplate&userLGNKEY=0','session_profile');\", tag='NO_TAG')\n"
     ]
    }
   ],
   "source": [
    "for s in sessions:\n",
    "    print(parse_session(s))"
   ]
  },
  {
   "cell_type": "code",
   "execution_count": 94,
   "metadata": {},
   "outputs": [],
   "source": [
    "conf_sessions = [parse_session(s) for s in sessions]"
   ]
  },
  {
   "cell_type": "code",
   "execution_count": 95,
   "metadata": {},
   "outputs": [
    {
     "output_type": "execute_result",
     "data": {
      "text/plain": [
       "[ConfSession(title='Taking Charge of Your Narrative (*additional fee required)', speakers='Alexia Hudson-Ward, Toni Olivas, Jon Cawthorne, Mary Ellen Davis, Gerald Holmes, Trevor Dawes, Jody Gray, Elaine Westbrooks', link=\"javascript:ExhibitorPopup('profile.cfm?profile_name=session&master_key=0DFF903A-A477-DC5D-B3B4-C61346230B4A&page_key=126CB9A0-B53A-2A1E-9827-DF2938A26C80&xtemplate&userLGNKEY=0','session_profile');\", tag='Professional/Staff Development'),\n",
       " ConfSession(title='Engaged Students are Empowered Students: Instructional Design Matters (*additional fee required)', speakers='Claire Holmes, Meg Grotti, Megan Oakleaf, Melissa Cadena', link=\"javascript:ExhibitorPopup('profile.cfm?profile_name=session&master_key=01B9AE26-A889-E82D-34AF-8AEE98462447&page_key=126CB9A0-B53A-2A1E-9827-DF2938A26C80&xtemplate&userLGNKEY=0','session_profile');\", tag='Teaching and Learning'),\n",
       " ConfSession(title='Lead Your Library Towards Accessibility: Knowledge & tools for any librarian to promote a culture of accessibility (*additional fee required)', speakers='Stephanie Rosen, Heidi Schroeder, Andy Andrews', link=\"javascript:ExhibitorPopup('profile.cfm?profile_name=session&master_key=01BCA181-D277-B23C-E5EE-2DA51F6D6063&page_key=126CB9A0-B53A-2A1E-9827-DF2938A26C80&xtemplate&userLGNKEY=0','session_profile');\", tag='Professional/Staff Development'),\n",
       " ConfSession(title='OER+ScholarlyCommunication (*additional fee required)', speakers='Maria Bonn, Will Cross, Josh Bolick', link=\"javascript:ExhibitorPopup('profile.cfm?profile_name=session&master_key=01BEB55E-F2FD-D09C-2318-DA2614CAA219&page_key=126CB9A0-B53A-2A1E-9827-DF2938A26C80&xtemplate&userLGNKEY=0','session_profile');\", tag='Scholarly Communication'),\n",
       " ConfSession(title='Planning, Assessing, and Communicating Library Impact: Putting the Standards for Libraries in Higher Education Into Action (*additional fee required)', speakers='Lisa Stillwell, Sharon Mader', link=\"javascript:ExhibitorPopup('profile.cfm?profile_name=session&master_key=01BEF5FD-CBB1-C099-84C1-5C14BCBD5CFB&page_key=126CB9A0-B53A-2A1E-9827-DF2938A26C80&xtemplate&userLGNKEY=0','session_profile');\", tag='Assessment')]"
      ]
     },
     "metadata": {},
     "execution_count": 95
    }
   ],
   "source": [
    "conf_sessions[:5]"
   ]
  },
  {
   "cell_type": "code",
   "execution_count": 96,
   "metadata": {},
   "outputs": [],
   "source": [
    "df = pd.DataFrame.from_records(conf_sessions, columns=ConfSession._fields)"
   ]
  },
  {
   "cell_type": "code",
   "execution_count": 97,
   "metadata": {},
   "outputs": [
    {
     "output_type": "execute_result",
     "data": {
      "text/plain": [
       "                                                 title  \\\n",
       "0    Taking Charge of Your Narrative (*additional f...   \n",
       "1    Engaged Students are Empowered Students: Instr...   \n",
       "2    Lead Your Library Towards Accessibility: Knowl...   \n",
       "3    OER+ScholarlyCommunication (*additional fee re...   \n",
       "4    Planning, Assessing, and Communicating Library...   \n",
       "..                                                 ...   \n",
       "614  Safe for Work: Online Professionalism Instruct...   \n",
       "615                                  Guided Meditation   \n",
       "616  Raspberry Pi a Platform for Innovation -- Solv...   \n",
       "617                    Closing Keynote: Alison Bechdel   \n",
       "618                        Alison Bechdel Book Signing   \n",
       "\n",
       "                                              speakers  \\\n",
       "0    Alexia Hudson-Ward, Toni Olivas, Jon Cawthorne...   \n",
       "1    Claire Holmes, Meg Grotti, Megan Oakleaf, Meli...   \n",
       "2       Stephanie Rosen, Heidi Schroeder, Andy Andrews   \n",
       "3                  Maria Bonn, Will Cross, Josh Bolick   \n",
       "4                         Lisa Stillwell, Sharon Mader   \n",
       "..                                                 ...   \n",
       "614                Christina L. Wissinger, Carmen Cole   \n",
       "615                                        NO_SPEAKERS   \n",
       "616                                      Colin Nickels   \n",
       "617                                        NO_SPEAKERS   \n",
       "618                                        NO_SPEAKERS   \n",
       "\n",
       "                                                  link  \\\n",
       "0    javascript:ExhibitorPopup('profile.cfm?profile...   \n",
       "1    javascript:ExhibitorPopup('profile.cfm?profile...   \n",
       "2    javascript:ExhibitorPopup('profile.cfm?profile...   \n",
       "3    javascript:ExhibitorPopup('profile.cfm?profile...   \n",
       "4    javascript:ExhibitorPopup('profile.cfm?profile...   \n",
       "..                                                 ...   \n",
       "614  javascript:ExhibitorPopup('profile.cfm?profile...   \n",
       "615  javascript:ExhibitorPopup('profile.cfm?profile...   \n",
       "616  javascript:ExhibitorPopup('profile.cfm?profile...   \n",
       "617  javascript:ExhibitorPopup('profile.cfm?profile...   \n",
       "618  javascript:ExhibitorPopup('profile.cfm?profile...   \n",
       "\n",
       "                                tag  \n",
       "0    Professional/Staff Development  \n",
       "1             Teaching and Learning  \n",
       "2    Professional/Staff Development  \n",
       "3           Scholarly Communication  \n",
       "4                        Assessment  \n",
       "..                              ...  \n",
       "614           Teaching and Learning  \n",
       "615                          NO_TAG  \n",
       "616            Technology and Tools  \n",
       "617                          NO_TAG  \n",
       "618                          NO_TAG  \n",
       "\n",
       "[619 rows x 4 columns]"
      ],
      "text/html": "<div>\n<style scoped>\n    .dataframe tbody tr th:only-of-type {\n        vertical-align: middle;\n    }\n\n    .dataframe tbody tr th {\n        vertical-align: top;\n    }\n\n    .dataframe thead th {\n        text-align: right;\n    }\n</style>\n<table border=\"1\" class=\"dataframe\">\n  <thead>\n    <tr style=\"text-align: right;\">\n      <th></th>\n      <th>title</th>\n      <th>speakers</th>\n      <th>link</th>\n      <th>tag</th>\n    </tr>\n  </thead>\n  <tbody>\n    <tr>\n      <th>0</th>\n      <td>Taking Charge of Your Narrative (*additional f...</td>\n      <td>Alexia Hudson-Ward, Toni Olivas, Jon Cawthorne...</td>\n      <td>javascript:ExhibitorPopup('profile.cfm?profile...</td>\n      <td>Professional/Staff Development</td>\n    </tr>\n    <tr>\n      <th>1</th>\n      <td>Engaged Students are Empowered Students: Instr...</td>\n      <td>Claire Holmes, Meg Grotti, Megan Oakleaf, Meli...</td>\n      <td>javascript:ExhibitorPopup('profile.cfm?profile...</td>\n      <td>Teaching and Learning</td>\n    </tr>\n    <tr>\n      <th>2</th>\n      <td>Lead Your Library Towards Accessibility: Knowl...</td>\n      <td>Stephanie Rosen, Heidi Schroeder, Andy Andrews</td>\n      <td>javascript:ExhibitorPopup('profile.cfm?profile...</td>\n      <td>Professional/Staff Development</td>\n    </tr>\n    <tr>\n      <th>3</th>\n      <td>OER+ScholarlyCommunication (*additional fee re...</td>\n      <td>Maria Bonn, Will Cross, Josh Bolick</td>\n      <td>javascript:ExhibitorPopup('profile.cfm?profile...</td>\n      <td>Scholarly Communication</td>\n    </tr>\n    <tr>\n      <th>4</th>\n      <td>Planning, Assessing, and Communicating Library...</td>\n      <td>Lisa Stillwell, Sharon Mader</td>\n      <td>javascript:ExhibitorPopup('profile.cfm?profile...</td>\n      <td>Assessment</td>\n    </tr>\n    <tr>\n      <th>...</th>\n      <td>...</td>\n      <td>...</td>\n      <td>...</td>\n      <td>...</td>\n    </tr>\n    <tr>\n      <th>614</th>\n      <td>Safe for Work: Online Professionalism Instruct...</td>\n      <td>Christina L. Wissinger, Carmen Cole</td>\n      <td>javascript:ExhibitorPopup('profile.cfm?profile...</td>\n      <td>Teaching and Learning</td>\n    </tr>\n    <tr>\n      <th>615</th>\n      <td>Guided Meditation</td>\n      <td>NO_SPEAKERS</td>\n      <td>javascript:ExhibitorPopup('profile.cfm?profile...</td>\n      <td>NO_TAG</td>\n    </tr>\n    <tr>\n      <th>616</th>\n      <td>Raspberry Pi a Platform for Innovation -- Solv...</td>\n      <td>Colin Nickels</td>\n      <td>javascript:ExhibitorPopup('profile.cfm?profile...</td>\n      <td>Technology and Tools</td>\n    </tr>\n    <tr>\n      <th>617</th>\n      <td>Closing Keynote: Alison Bechdel</td>\n      <td>NO_SPEAKERS</td>\n      <td>javascript:ExhibitorPopup('profile.cfm?profile...</td>\n      <td>NO_TAG</td>\n    </tr>\n    <tr>\n      <th>618</th>\n      <td>Alison Bechdel Book Signing</td>\n      <td>NO_SPEAKERS</td>\n      <td>javascript:ExhibitorPopup('profile.cfm?profile...</td>\n      <td>NO_TAG</td>\n    </tr>\n  </tbody>\n</table>\n<p>619 rows × 4 columns</p>\n</div>"
     },
     "metadata": {},
     "execution_count": 97
    }
   ],
   "source": [
    "df"
   ]
  },
  {
   "cell_type": "code",
   "execution_count": 126,
   "metadata": {},
   "outputs": [],
   "source": [
    "def build_link(raw_link):\n",
    "    base_url = \"https://s4.goeshow.com/acrl/national/2019/\"\n",
    "    if raw_link != \"NO_LINK\":            \n",
    "        chunks = raw_link.split(\"'\")\n",
    "        query = chunks[1].replace(\"&amp;\", \"&\")\n",
    "        return f\"{base_url}{query}\"\n",
    "    else:\n",
    "        return raw_link"
   ]
  },
  {
   "cell_type": "code",
   "execution_count": 127,
   "metadata": {},
   "outputs": [],
   "source": [
    "test_string = \"javascript:ExhibitorPopup('profile.cfm?profile_name=session&amp;master_key=01BB987C-DC28-663C-A754-F2985B7BDC50&amp;page_key=126CB9A0-B53A-2A1E-9827-DF2938A26C80&amp;xtemplate&amp;userLGNKEY=0','session_profile');\""
   ]
  },
  {
   "cell_type": "code",
   "execution_count": 128,
   "metadata": {},
   "outputs": [
    {
     "output_type": "execute_result",
     "data": {
      "text/plain": [
       "'https://s4.goeshow.com/acrl/national/2019/profile.cfm?profile_name=session&master_key=01BB987C-DC28-663C-A754-F2985B7BDC50&page_key=126CB9A0-B53A-2A1E-9827-DF2938A26C80&xtemplate&userLGNKEY=0'"
      ]
     },
     "metadata": {},
     "execution_count": 128
    }
   ],
   "source": [
    "build_link(test_string)"
   ]
  },
  {
   "cell_type": "code",
   "execution_count": 129,
   "metadata": {},
   "outputs": [],
   "source": [
    "df[\"link\"] = df[\"link\"].apply(build_link)"
   ]
  },
  {
   "cell_type": "code",
   "execution_count": 130,
   "metadata": {},
   "outputs": [
    {
     "output_type": "execute_result",
     "data": {
      "text/plain": [
       "                                                 title  \\\n",
       "0    Taking Charge of Your Narrative (*additional f...   \n",
       "1    Engaged Students are Empowered Students: Instr...   \n",
       "2    Lead Your Library Towards Accessibility: Knowl...   \n",
       "3    OER+ScholarlyCommunication (*additional fee re...   \n",
       "4    Planning, Assessing, and Communicating Library...   \n",
       "..                                                 ...   \n",
       "614  Safe for Work: Online Professionalism Instruct...   \n",
       "615                                  Guided Meditation   \n",
       "616  Raspberry Pi a Platform for Innovation -- Solv...   \n",
       "617                    Closing Keynote: Alison Bechdel   \n",
       "618                        Alison Bechdel Book Signing   \n",
       "\n",
       "                                              speakers  \\\n",
       "0    Alexia Hudson-Ward, Toni Olivas, Jon Cawthorne...   \n",
       "1    Claire Holmes, Meg Grotti, Megan Oakleaf, Meli...   \n",
       "2       Stephanie Rosen, Heidi Schroeder, Andy Andrews   \n",
       "3                  Maria Bonn, Will Cross, Josh Bolick   \n",
       "4                         Lisa Stillwell, Sharon Mader   \n",
       "..                                                 ...   \n",
       "614                Christina L. Wissinger, Carmen Cole   \n",
       "615                                        NO_SPEAKERS   \n",
       "616                                      Colin Nickels   \n",
       "617                                        NO_SPEAKERS   \n",
       "618                                        NO_SPEAKERS   \n",
       "\n",
       "                                                  link  \\\n",
       "0    https://s4.goeshow.com/acrl/national/2019/prof...   \n",
       "1    https://s4.goeshow.com/acrl/national/2019/prof...   \n",
       "2    https://s4.goeshow.com/acrl/national/2019/prof...   \n",
       "3    https://s4.goeshow.com/acrl/national/2019/prof...   \n",
       "4    https://s4.goeshow.com/acrl/national/2019/prof...   \n",
       "..                                                 ...   \n",
       "614  https://s4.goeshow.com/acrl/national/2019/prof...   \n",
       "615  https://s4.goeshow.com/acrl/national/2019/prof...   \n",
       "616  https://s4.goeshow.com/acrl/national/2019/prof...   \n",
       "617  https://s4.goeshow.com/acrl/national/2019/prof...   \n",
       "618  https://s4.goeshow.com/acrl/national/2019/prof...   \n",
       "\n",
       "                                tag  \n",
       "0    Professional/Staff Development  \n",
       "1             Teaching and Learning  \n",
       "2    Professional/Staff Development  \n",
       "3           Scholarly Communication  \n",
       "4                        Assessment  \n",
       "..                              ...  \n",
       "614           Teaching and Learning  \n",
       "615                          NO_TAG  \n",
       "616            Technology and Tools  \n",
       "617                          NO_TAG  \n",
       "618                          NO_TAG  \n",
       "\n",
       "[619 rows x 4 columns]"
      ],
      "text/html": "<div>\n<style scoped>\n    .dataframe tbody tr th:only-of-type {\n        vertical-align: middle;\n    }\n\n    .dataframe tbody tr th {\n        vertical-align: top;\n    }\n\n    .dataframe thead th {\n        text-align: right;\n    }\n</style>\n<table border=\"1\" class=\"dataframe\">\n  <thead>\n    <tr style=\"text-align: right;\">\n      <th></th>\n      <th>title</th>\n      <th>speakers</th>\n      <th>link</th>\n      <th>tag</th>\n    </tr>\n  </thead>\n  <tbody>\n    <tr>\n      <th>0</th>\n      <td>Taking Charge of Your Narrative (*additional f...</td>\n      <td>Alexia Hudson-Ward, Toni Olivas, Jon Cawthorne...</td>\n      <td>https://s4.goeshow.com/acrl/national/2019/prof...</td>\n      <td>Professional/Staff Development</td>\n    </tr>\n    <tr>\n      <th>1</th>\n      <td>Engaged Students are Empowered Students: Instr...</td>\n      <td>Claire Holmes, Meg Grotti, Megan Oakleaf, Meli...</td>\n      <td>https://s4.goeshow.com/acrl/national/2019/prof...</td>\n      <td>Teaching and Learning</td>\n    </tr>\n    <tr>\n      <th>2</th>\n      <td>Lead Your Library Towards Accessibility: Knowl...</td>\n      <td>Stephanie Rosen, Heidi Schroeder, Andy Andrews</td>\n      <td>https://s4.goeshow.com/acrl/national/2019/prof...</td>\n      <td>Professional/Staff Development</td>\n    </tr>\n    <tr>\n      <th>3</th>\n      <td>OER+ScholarlyCommunication (*additional fee re...</td>\n      <td>Maria Bonn, Will Cross, Josh Bolick</td>\n      <td>https://s4.goeshow.com/acrl/national/2019/prof...</td>\n      <td>Scholarly Communication</td>\n    </tr>\n    <tr>\n      <th>4</th>\n      <td>Planning, Assessing, and Communicating Library...</td>\n      <td>Lisa Stillwell, Sharon Mader</td>\n      <td>https://s4.goeshow.com/acrl/national/2019/prof...</td>\n      <td>Assessment</td>\n    </tr>\n    <tr>\n      <th>...</th>\n      <td>...</td>\n      <td>...</td>\n      <td>...</td>\n      <td>...</td>\n    </tr>\n    <tr>\n      <th>614</th>\n      <td>Safe for Work: Online Professionalism Instruct...</td>\n      <td>Christina L. Wissinger, Carmen Cole</td>\n      <td>https://s4.goeshow.com/acrl/national/2019/prof...</td>\n      <td>Teaching and Learning</td>\n    </tr>\n    <tr>\n      <th>615</th>\n      <td>Guided Meditation</td>\n      <td>NO_SPEAKERS</td>\n      <td>https://s4.goeshow.com/acrl/national/2019/prof...</td>\n      <td>NO_TAG</td>\n    </tr>\n    <tr>\n      <th>616</th>\n      <td>Raspberry Pi a Platform for Innovation -- Solv...</td>\n      <td>Colin Nickels</td>\n      <td>https://s4.goeshow.com/acrl/national/2019/prof...</td>\n      <td>Technology and Tools</td>\n    </tr>\n    <tr>\n      <th>617</th>\n      <td>Closing Keynote: Alison Bechdel</td>\n      <td>NO_SPEAKERS</td>\n      <td>https://s4.goeshow.com/acrl/national/2019/prof...</td>\n      <td>NO_TAG</td>\n    </tr>\n    <tr>\n      <th>618</th>\n      <td>Alison Bechdel Book Signing</td>\n      <td>NO_SPEAKERS</td>\n      <td>https://s4.goeshow.com/acrl/national/2019/prof...</td>\n      <td>NO_TAG</td>\n    </tr>\n  </tbody>\n</table>\n<p>619 rows × 4 columns</p>\n</div>"
     },
     "metadata": {},
     "execution_count": 130
    }
   ],
   "source": [
    "df"
   ]
  },
  {
   "cell_type": "code",
   "execution_count": 131,
   "metadata": {},
   "outputs": [],
   "source": [
    "df.to_csv(\"acrl_2019.csv\")"
   ]
  },
  {
   "cell_type": "code",
   "execution_count": null,
   "metadata": {},
   "outputs": [],
   "source": []
  }
 ]
}